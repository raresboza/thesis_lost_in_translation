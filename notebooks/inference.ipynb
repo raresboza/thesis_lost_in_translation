{
 "cells": [
  {
   "metadata": {},
   "cell_type": "markdown",
   "source": "# Testing",
   "id": "fe80cbe9137c074e"
  },
  {
   "metadata": {
    "ExecuteTime": {
     "end_time": "2025-01-27T00:12:59.879652Z",
     "start_time": "2025-01-27T00:12:59.165022Z"
    }
   },
   "cell_type": "code",
   "source": [
    "import pandas as pd\n",
    "import pyarrow\n",
    "df = pd.read_parquet('/run/media/rares17/f15020b9-f291-4fe9-85f0-e6bd87520125/thesis/bookdata-tools/openlibrary/clusters-ol-lang.parquet', engine='pyarrow')  #\n",
    "df"
   ],
   "id": "8956a5821b26dbd5",
   "outputs": [
    {
     "data": {
      "text/plain": [
       "          language_flag    cluster\n",
       "0                     1  100308874\n",
       "1                     0  114902799\n",
       "2                     1  118858471\n",
       "3                     0  100782976\n",
       "4                     0  114903282\n",
       "...                 ...        ...\n",
       "44936384              0  114903445\n",
       "44936385              0  114903445\n",
       "44936386              0  114903445\n",
       "44936387              1  100816872\n",
       "44936388              0  114903445\n",
       "\n",
       "[44936389 rows x 2 columns]"
      ],
      "text/html": [
       "<div>\n",
       "<style scoped>\n",
       "    .dataframe tbody tr th:only-of-type {\n",
       "        vertical-align: middle;\n",
       "    }\n",
       "\n",
       "    .dataframe tbody tr th {\n",
       "        vertical-align: top;\n",
       "    }\n",
       "\n",
       "    .dataframe thead th {\n",
       "        text-align: right;\n",
       "    }\n",
       "</style>\n",
       "<table border=\"1\" class=\"dataframe\">\n",
       "  <thead>\n",
       "    <tr style=\"text-align: right;\">\n",
       "      <th></th>\n",
       "      <th>language_flag</th>\n",
       "      <th>cluster</th>\n",
       "    </tr>\n",
       "  </thead>\n",
       "  <tbody>\n",
       "    <tr>\n",
       "      <th>0</th>\n",
       "      <td>1</td>\n",
       "      <td>100308874</td>\n",
       "    </tr>\n",
       "    <tr>\n",
       "      <th>1</th>\n",
       "      <td>0</td>\n",
       "      <td>114902799</td>\n",
       "    </tr>\n",
       "    <tr>\n",
       "      <th>2</th>\n",
       "      <td>1</td>\n",
       "      <td>118858471</td>\n",
       "    </tr>\n",
       "    <tr>\n",
       "      <th>3</th>\n",
       "      <td>0</td>\n",
       "      <td>100782976</td>\n",
       "    </tr>\n",
       "    <tr>\n",
       "      <th>4</th>\n",
       "      <td>0</td>\n",
       "      <td>114903282</td>\n",
       "    </tr>\n",
       "    <tr>\n",
       "      <th>...</th>\n",
       "      <td>...</td>\n",
       "      <td>...</td>\n",
       "    </tr>\n",
       "    <tr>\n",
       "      <th>44936384</th>\n",
       "      <td>0</td>\n",
       "      <td>114903445</td>\n",
       "    </tr>\n",
       "    <tr>\n",
       "      <th>44936385</th>\n",
       "      <td>0</td>\n",
       "      <td>114903445</td>\n",
       "    </tr>\n",
       "    <tr>\n",
       "      <th>44936386</th>\n",
       "      <td>0</td>\n",
       "      <td>114903445</td>\n",
       "    </tr>\n",
       "    <tr>\n",
       "      <th>44936387</th>\n",
       "      <td>1</td>\n",
       "      <td>100816872</td>\n",
       "    </tr>\n",
       "    <tr>\n",
       "      <th>44936388</th>\n",
       "      <td>0</td>\n",
       "      <td>114903445</td>\n",
       "    </tr>\n",
       "  </tbody>\n",
       "</table>\n",
       "<p>44936389 rows × 2 columns</p>\n",
       "</div>"
      ]
     },
     "execution_count": 2,
     "metadata": {},
     "output_type": "execute_result"
    }
   ],
   "execution_count": 2
  },
  {
   "metadata": {
    "jupyter": {
     "is_executing": true
    },
    "ExecuteTime": {
     "start_time": "2025-01-26T22:43:31.086850Z"
    }
   },
   "cell_type": "code",
   "source": [
    "import pandas as pd\n",
    "import pyarrow\n",
    "df = pd.read_parquet('/run/media/rares17/f15020b9-f291-4fe9-85f0-e6bd87520125/thesis/bookdata-tools/openlibrary/editions.parquet', engine='pyarrow')\n",
    "\n",
    "print(df)"
   ],
   "id": "bb1e62bc549f2a3d",
   "outputs": [],
   "execution_count": null
  },
  {
   "metadata": {
    "ExecuteTime": {
     "end_time": "2025-01-26T22:49:07.109755Z",
     "start_time": "2025-01-26T22:48:22.032008Z"
    }
   },
   "cell_type": "code",
   "source": [
    "import pandas as pd\n",
    "df_language_edition = pd.read_parquet('/run/media/rares17/f15020b9-f291-4fe9-85f0-e6bd87520125/thesis/bookdata-tools/openlibrary/editions.parquet', engine='pyarrow')\n",
    "\n",
    "df_language_edition"
   ],
   "id": "a341dd5d8d5546e9",
   "outputs": [
    {
     "data": {
      "text/plain": [
       "                id                 key  \\\n",
       "0                1   /books/OL1000023M   \n",
       "1                2  /books/OL10000506M   \n",
       "2                3   /books/OL1000058M   \n",
       "3                4  /books/OL10000613M   \n",
       "4                5  /books/OL10000640M   \n",
       "...            ...                 ...   \n",
       "46947995  46947996   /books/OL9999127M   \n",
       "46947996  46947997   /books/OL9999217M   \n",
       "46947997  46947998    /books/OL999936M   \n",
       "46947998  46947999   /books/OL9999426M   \n",
       "46947999  46948000   /books/OL9999542M   \n",
       "\n",
       "                                                      title  language_flag  \n",
       "0                   Selected letters of Rabindranath Tagore              1  \n",
       "1         Public Processions Etc. (Northern Ireland) Bil...              0  \n",
       "2                                   When men revolt and why              1  \n",
       "3                            Crime and Disorder Bill [H.L.]              0  \n",
       "4                 Teaching and Higher Education Bill [H.L.]              0  \n",
       "...                                                     ...            ...  \n",
       "46947995  House of Lords Official Report (Parliamentary ...              0  \n",
       "46947996  House of Lords Official Report (Parliamentary ...              0  \n",
       "46947997                          Tolstoy, woman, and death              1  \n",
       "46947998  House of Lords Official Report (Parliamentary ...              0  \n",
       "46947999          House of Lords Official Report 5th Series              1  \n",
       "\n",
       "[46948000 rows x 4 columns]"
      ],
      "text/html": [
       "<div>\n",
       "<style scoped>\n",
       "    .dataframe tbody tr th:only-of-type {\n",
       "        vertical-align: middle;\n",
       "    }\n",
       "\n",
       "    .dataframe tbody tr th {\n",
       "        vertical-align: top;\n",
       "    }\n",
       "\n",
       "    .dataframe thead th {\n",
       "        text-align: right;\n",
       "    }\n",
       "</style>\n",
       "<table border=\"1\" class=\"dataframe\">\n",
       "  <thead>\n",
       "    <tr style=\"text-align: right;\">\n",
       "      <th></th>\n",
       "      <th>id</th>\n",
       "      <th>key</th>\n",
       "      <th>title</th>\n",
       "      <th>language_flag</th>\n",
       "    </tr>\n",
       "  </thead>\n",
       "  <tbody>\n",
       "    <tr>\n",
       "      <th>0</th>\n",
       "      <td>1</td>\n",
       "      <td>/books/OL1000023M</td>\n",
       "      <td>Selected letters of Rabindranath Tagore</td>\n",
       "      <td>1</td>\n",
       "    </tr>\n",
       "    <tr>\n",
       "      <th>1</th>\n",
       "      <td>2</td>\n",
       "      <td>/books/OL10000506M</td>\n",
       "      <td>Public Processions Etc. (Northern Ireland) Bil...</td>\n",
       "      <td>0</td>\n",
       "    </tr>\n",
       "    <tr>\n",
       "      <th>2</th>\n",
       "      <td>3</td>\n",
       "      <td>/books/OL1000058M</td>\n",
       "      <td>When men revolt and why</td>\n",
       "      <td>1</td>\n",
       "    </tr>\n",
       "    <tr>\n",
       "      <th>3</th>\n",
       "      <td>4</td>\n",
       "      <td>/books/OL10000613M</td>\n",
       "      <td>Crime and Disorder Bill [H.L.]</td>\n",
       "      <td>0</td>\n",
       "    </tr>\n",
       "    <tr>\n",
       "      <th>4</th>\n",
       "      <td>5</td>\n",
       "      <td>/books/OL10000640M</td>\n",
       "      <td>Teaching and Higher Education Bill [H.L.]</td>\n",
       "      <td>0</td>\n",
       "    </tr>\n",
       "    <tr>\n",
       "      <th>...</th>\n",
       "      <td>...</td>\n",
       "      <td>...</td>\n",
       "      <td>...</td>\n",
       "      <td>...</td>\n",
       "    </tr>\n",
       "    <tr>\n",
       "      <th>46947995</th>\n",
       "      <td>46947996</td>\n",
       "      <td>/books/OL9999127M</td>\n",
       "      <td>House of Lords Official Report (Parliamentary ...</td>\n",
       "      <td>0</td>\n",
       "    </tr>\n",
       "    <tr>\n",
       "      <th>46947996</th>\n",
       "      <td>46947997</td>\n",
       "      <td>/books/OL9999217M</td>\n",
       "      <td>House of Lords Official Report (Parliamentary ...</td>\n",
       "      <td>0</td>\n",
       "    </tr>\n",
       "    <tr>\n",
       "      <th>46947997</th>\n",
       "      <td>46947998</td>\n",
       "      <td>/books/OL999936M</td>\n",
       "      <td>Tolstoy, woman, and death</td>\n",
       "      <td>1</td>\n",
       "    </tr>\n",
       "    <tr>\n",
       "      <th>46947998</th>\n",
       "      <td>46947999</td>\n",
       "      <td>/books/OL9999426M</td>\n",
       "      <td>House of Lords Official Report (Parliamentary ...</td>\n",
       "      <td>0</td>\n",
       "    </tr>\n",
       "    <tr>\n",
       "      <th>46947999</th>\n",
       "      <td>46948000</td>\n",
       "      <td>/books/OL9999542M</td>\n",
       "      <td>House of Lords Official Report 5th Series</td>\n",
       "      <td>1</td>\n",
       "    </tr>\n",
       "  </tbody>\n",
       "</table>\n",
       "<p>46948000 rows × 4 columns</p>\n",
       "</div>"
      ]
     },
     "execution_count": 1,
     "metadata": {},
     "output_type": "execute_result"
    }
   ],
   "execution_count": 1
  },
  {
   "metadata": {
    "ExecuteTime": {
     "end_time": "2025-01-26T22:49:14.890226Z",
     "start_time": "2025-01-26T22:49:11.200478Z"
    }
   },
   "cell_type": "code",
   "source": "df_ids_works = pd.read_parquet('/run/media/rares17/f15020b9-f291-4fe9-85f0-e6bd87520125/thesis/bookdata-tools/openlibrary/edition-works.parquet', engine='pyarrow')",
   "id": "9421a9acce88141b",
   "outputs": [],
   "execution_count": 2
  },
  {
   "metadata": {
    "ExecuteTime": {
     "end_time": "2025-01-26T21:50:35.081068Z",
     "start_time": "2025-01-26T21:50:35.069304Z"
    }
   },
   "cell_type": "code",
   "source": "df_ids_works",
   "id": "421547eb63af4c47",
   "outputs": [
    {
     "data": {
      "text/plain": [
       "           edition      work\n",
       "0                1    308874\n",
       "1                2  14902799\n",
       "2                3  18858471\n",
       "3                4  14903278\n",
       "4                5  14903282\n",
       "...            ...       ...\n",
       "44936384  46947995  14903445\n",
       "44936385  46947996  14903445\n",
       "44936386  46947997  14903445\n",
       "44936387  46947998    816872\n",
       "44936388  46947999  14903445\n",
       "\n",
       "[44936389 rows x 2 columns]"
      ],
      "text/html": [
       "<div>\n",
       "<style scoped>\n",
       "    .dataframe tbody tr th:only-of-type {\n",
       "        vertical-align: middle;\n",
       "    }\n",
       "\n",
       "    .dataframe tbody tr th {\n",
       "        vertical-align: top;\n",
       "    }\n",
       "\n",
       "    .dataframe thead th {\n",
       "        text-align: right;\n",
       "    }\n",
       "</style>\n",
       "<table border=\"1\" class=\"dataframe\">\n",
       "  <thead>\n",
       "    <tr style=\"text-align: right;\">\n",
       "      <th></th>\n",
       "      <th>edition</th>\n",
       "      <th>work</th>\n",
       "    </tr>\n",
       "  </thead>\n",
       "  <tbody>\n",
       "    <tr>\n",
       "      <th>0</th>\n",
       "      <td>1</td>\n",
       "      <td>308874</td>\n",
       "    </tr>\n",
       "    <tr>\n",
       "      <th>1</th>\n",
       "      <td>2</td>\n",
       "      <td>14902799</td>\n",
       "    </tr>\n",
       "    <tr>\n",
       "      <th>2</th>\n",
       "      <td>3</td>\n",
       "      <td>18858471</td>\n",
       "    </tr>\n",
       "    <tr>\n",
       "      <th>3</th>\n",
       "      <td>4</td>\n",
       "      <td>14903278</td>\n",
       "    </tr>\n",
       "    <tr>\n",
       "      <th>4</th>\n",
       "      <td>5</td>\n",
       "      <td>14903282</td>\n",
       "    </tr>\n",
       "    <tr>\n",
       "      <th>...</th>\n",
       "      <td>...</td>\n",
       "      <td>...</td>\n",
       "    </tr>\n",
       "    <tr>\n",
       "      <th>44936384</th>\n",
       "      <td>46947995</td>\n",
       "      <td>14903445</td>\n",
       "    </tr>\n",
       "    <tr>\n",
       "      <th>44936385</th>\n",
       "      <td>46947996</td>\n",
       "      <td>14903445</td>\n",
       "    </tr>\n",
       "    <tr>\n",
       "      <th>44936386</th>\n",
       "      <td>46947997</td>\n",
       "      <td>14903445</td>\n",
       "    </tr>\n",
       "    <tr>\n",
       "      <th>44936387</th>\n",
       "      <td>46947998</td>\n",
       "      <td>816872</td>\n",
       "    </tr>\n",
       "    <tr>\n",
       "      <th>44936388</th>\n",
       "      <td>46947999</td>\n",
       "      <td>14903445</td>\n",
       "    </tr>\n",
       "  </tbody>\n",
       "</table>\n",
       "<p>44936389 rows × 2 columns</p>\n",
       "</div>"
      ]
     },
     "execution_count": 8,
     "metadata": {},
     "output_type": "execute_result"
    }
   ],
   "execution_count": 8
  },
  {
   "metadata": {
    "ExecuteTime": {
     "end_time": "2025-01-26T22:49:27.040655Z",
     "start_time": "2025-01-26T22:49:22.853517Z"
    }
   },
   "cell_type": "code",
   "source": [
    "df_edition_work_lang = pd.merge(\n",
    "    df_language_edition[['id', 'language_flag']],\n",
    "    df_ids_works[['edition', 'work']],\n",
    "    left_on='id',\n",
    "    right_on='edition',\n",
    "    how='inner'\n",
    ")\n",
    "df_edition_work_lang = df_edition_work_lang.drop(columns=['id'])\n",
    "df_edition_work_lang"
   ],
   "id": "b31eb88600cc8415",
   "outputs": [
    {
     "data": {
      "text/plain": [
       "          language_flag   edition      work\n",
       "0                     1         1    308874\n",
       "1                     0         2  14902799\n",
       "2                     1         3  18858471\n",
       "3                     0         4  14903278\n",
       "4                     0         5  14903282\n",
       "...                 ...       ...       ...\n",
       "44936384              0  46947995  14903445\n",
       "44936385              0  46947996  14903445\n",
       "44936386              0  46947997  14903445\n",
       "44936387              1  46947998    816872\n",
       "44936388              0  46947999  14903445\n",
       "\n",
       "[44936389 rows x 3 columns]"
      ],
      "text/html": [
       "<div>\n",
       "<style scoped>\n",
       "    .dataframe tbody tr th:only-of-type {\n",
       "        vertical-align: middle;\n",
       "    }\n",
       "\n",
       "    .dataframe tbody tr th {\n",
       "        vertical-align: top;\n",
       "    }\n",
       "\n",
       "    .dataframe thead th {\n",
       "        text-align: right;\n",
       "    }\n",
       "</style>\n",
       "<table border=\"1\" class=\"dataframe\">\n",
       "  <thead>\n",
       "    <tr style=\"text-align: right;\">\n",
       "      <th></th>\n",
       "      <th>language_flag</th>\n",
       "      <th>edition</th>\n",
       "      <th>work</th>\n",
       "    </tr>\n",
       "  </thead>\n",
       "  <tbody>\n",
       "    <tr>\n",
       "      <th>0</th>\n",
       "      <td>1</td>\n",
       "      <td>1</td>\n",
       "      <td>308874</td>\n",
       "    </tr>\n",
       "    <tr>\n",
       "      <th>1</th>\n",
       "      <td>0</td>\n",
       "      <td>2</td>\n",
       "      <td>14902799</td>\n",
       "    </tr>\n",
       "    <tr>\n",
       "      <th>2</th>\n",
       "      <td>1</td>\n",
       "      <td>3</td>\n",
       "      <td>18858471</td>\n",
       "    </tr>\n",
       "    <tr>\n",
       "      <th>3</th>\n",
       "      <td>0</td>\n",
       "      <td>4</td>\n",
       "      <td>14903278</td>\n",
       "    </tr>\n",
       "    <tr>\n",
       "      <th>4</th>\n",
       "      <td>0</td>\n",
       "      <td>5</td>\n",
       "      <td>14903282</td>\n",
       "    </tr>\n",
       "    <tr>\n",
       "      <th>...</th>\n",
       "      <td>...</td>\n",
       "      <td>...</td>\n",
       "      <td>...</td>\n",
       "    </tr>\n",
       "    <tr>\n",
       "      <th>44936384</th>\n",
       "      <td>0</td>\n",
       "      <td>46947995</td>\n",
       "      <td>14903445</td>\n",
       "    </tr>\n",
       "    <tr>\n",
       "      <th>44936385</th>\n",
       "      <td>0</td>\n",
       "      <td>46947996</td>\n",
       "      <td>14903445</td>\n",
       "    </tr>\n",
       "    <tr>\n",
       "      <th>44936386</th>\n",
       "      <td>0</td>\n",
       "      <td>46947997</td>\n",
       "      <td>14903445</td>\n",
       "    </tr>\n",
       "    <tr>\n",
       "      <th>44936387</th>\n",
       "      <td>1</td>\n",
       "      <td>46947998</td>\n",
       "      <td>816872</td>\n",
       "    </tr>\n",
       "    <tr>\n",
       "      <th>44936388</th>\n",
       "      <td>0</td>\n",
       "      <td>46947999</td>\n",
       "      <td>14903445</td>\n",
       "    </tr>\n",
       "  </tbody>\n",
       "</table>\n",
       "<p>44936389 rows × 3 columns</p>\n",
       "</div>"
      ]
     },
     "execution_count": 3,
     "metadata": {},
     "output_type": "execute_result"
    }
   ],
   "execution_count": 3
  },
  {
   "metadata": {
    "ExecuteTime": {
     "end_time": "2025-01-26T22:49:33.112590Z",
     "start_time": "2025-01-26T22:49:27.115329Z"
    }
   },
   "cell_type": "code",
   "source": [
    "df_work_clusters = pd.read_parquet('/run/media/rares17/f15020b9-f291-4fe9-85f0-e6bd87520125/thesis/bookdata-tools/openlibrary/work-clusters.parquet', engine='pyarrow')\n",
    "df_work_clusters"
   ],
   "id": "dd36e4178b8b7a44",
   "outputs": [
    {
     "data": {
      "text/plain": [
       "           work_id    cluster\n",
       "0          9945053  109945053\n",
       "1          9944141  109944141\n",
       "2           987538  100987538\n",
       "3          9575333  109575333\n",
       "4            95181  100095181\n",
       "...            ...        ...\n",
       "34230822  34422180  134422180\n",
       "34230823  15581116  104371843\n",
       "34230824   4371843  104371843\n",
       "34230825  15498960  104371843\n",
       "34230826   8251392  108251392\n",
       "\n",
       "[34230827 rows x 2 columns]"
      ],
      "text/html": [
       "<div>\n",
       "<style scoped>\n",
       "    .dataframe tbody tr th:only-of-type {\n",
       "        vertical-align: middle;\n",
       "    }\n",
       "\n",
       "    .dataframe tbody tr th {\n",
       "        vertical-align: top;\n",
       "    }\n",
       "\n",
       "    .dataframe thead th {\n",
       "        text-align: right;\n",
       "    }\n",
       "</style>\n",
       "<table border=\"1\" class=\"dataframe\">\n",
       "  <thead>\n",
       "    <tr style=\"text-align: right;\">\n",
       "      <th></th>\n",
       "      <th>work_id</th>\n",
       "      <th>cluster</th>\n",
       "    </tr>\n",
       "  </thead>\n",
       "  <tbody>\n",
       "    <tr>\n",
       "      <th>0</th>\n",
       "      <td>9945053</td>\n",
       "      <td>109945053</td>\n",
       "    </tr>\n",
       "    <tr>\n",
       "      <th>1</th>\n",
       "      <td>9944141</td>\n",
       "      <td>109944141</td>\n",
       "    </tr>\n",
       "    <tr>\n",
       "      <th>2</th>\n",
       "      <td>987538</td>\n",
       "      <td>100987538</td>\n",
       "    </tr>\n",
       "    <tr>\n",
       "      <th>3</th>\n",
       "      <td>9575333</td>\n",
       "      <td>109575333</td>\n",
       "    </tr>\n",
       "    <tr>\n",
       "      <th>4</th>\n",
       "      <td>95181</td>\n",
       "      <td>100095181</td>\n",
       "    </tr>\n",
       "    <tr>\n",
       "      <th>...</th>\n",
       "      <td>...</td>\n",
       "      <td>...</td>\n",
       "    </tr>\n",
       "    <tr>\n",
       "      <th>34230822</th>\n",
       "      <td>34422180</td>\n",
       "      <td>134422180</td>\n",
       "    </tr>\n",
       "    <tr>\n",
       "      <th>34230823</th>\n",
       "      <td>15581116</td>\n",
       "      <td>104371843</td>\n",
       "    </tr>\n",
       "    <tr>\n",
       "      <th>34230824</th>\n",
       "      <td>4371843</td>\n",
       "      <td>104371843</td>\n",
       "    </tr>\n",
       "    <tr>\n",
       "      <th>34230825</th>\n",
       "      <td>15498960</td>\n",
       "      <td>104371843</td>\n",
       "    </tr>\n",
       "    <tr>\n",
       "      <th>34230826</th>\n",
       "      <td>8251392</td>\n",
       "      <td>108251392</td>\n",
       "    </tr>\n",
       "  </tbody>\n",
       "</table>\n",
       "<p>34230827 rows × 2 columns</p>\n",
       "</div>"
      ]
     },
     "execution_count": 4,
     "metadata": {},
     "output_type": "execute_result"
    }
   ],
   "execution_count": 4
  },
  {
   "metadata": {
    "ExecuteTime": {
     "end_time": "2025-01-26T22:49:56.771400Z",
     "start_time": "2025-01-26T22:49:38.773464Z"
    }
   },
   "cell_type": "code",
   "source": [
    "df_work_cluster_lang = pd.merge(\n",
    "    df_edition_work_lang[['work', 'language_flag']],\n",
    "    df_work_clusters[['work_id', 'cluster']],\n",
    "    left_on='work',\n",
    "    right_on='work_id',\n",
    "    how='inner'\n",
    ")\n",
    "df_work_cluster_lang = df_work_cluster_lang.drop(columns=['work', 'work_id'])\n",
    "df_work_cluster_lang"
   ],
   "id": "574fe24b84e5f32d",
   "outputs": [
    {
     "data": {
      "text/plain": [
       "          language_flag    cluster\n",
       "0                     1  100308874\n",
       "1                     0  114902799\n",
       "2                     1  118858471\n",
       "3                     0  100782976\n",
       "4                     0  114903282\n",
       "...                 ...        ...\n",
       "44936384              0  114903445\n",
       "44936385              0  114903445\n",
       "44936386              0  114903445\n",
       "44936387              1  100816872\n",
       "44936388              0  114903445\n",
       "\n",
       "[44936389 rows x 2 columns]"
      ],
      "text/html": [
       "<div>\n",
       "<style scoped>\n",
       "    .dataframe tbody tr th:only-of-type {\n",
       "        vertical-align: middle;\n",
       "    }\n",
       "\n",
       "    .dataframe tbody tr th {\n",
       "        vertical-align: top;\n",
       "    }\n",
       "\n",
       "    .dataframe thead th {\n",
       "        text-align: right;\n",
       "    }\n",
       "</style>\n",
       "<table border=\"1\" class=\"dataframe\">\n",
       "  <thead>\n",
       "    <tr style=\"text-align: right;\">\n",
       "      <th></th>\n",
       "      <th>language_flag</th>\n",
       "      <th>cluster</th>\n",
       "    </tr>\n",
       "  </thead>\n",
       "  <tbody>\n",
       "    <tr>\n",
       "      <th>0</th>\n",
       "      <td>1</td>\n",
       "      <td>100308874</td>\n",
       "    </tr>\n",
       "    <tr>\n",
       "      <th>1</th>\n",
       "      <td>0</td>\n",
       "      <td>114902799</td>\n",
       "    </tr>\n",
       "    <tr>\n",
       "      <th>2</th>\n",
       "      <td>1</td>\n",
       "      <td>118858471</td>\n",
       "    </tr>\n",
       "    <tr>\n",
       "      <th>3</th>\n",
       "      <td>0</td>\n",
       "      <td>100782976</td>\n",
       "    </tr>\n",
       "    <tr>\n",
       "      <th>4</th>\n",
       "      <td>0</td>\n",
       "      <td>114903282</td>\n",
       "    </tr>\n",
       "    <tr>\n",
       "      <th>...</th>\n",
       "      <td>...</td>\n",
       "      <td>...</td>\n",
       "    </tr>\n",
       "    <tr>\n",
       "      <th>44936384</th>\n",
       "      <td>0</td>\n",
       "      <td>114903445</td>\n",
       "    </tr>\n",
       "    <tr>\n",
       "      <th>44936385</th>\n",
       "      <td>0</td>\n",
       "      <td>114903445</td>\n",
       "    </tr>\n",
       "    <tr>\n",
       "      <th>44936386</th>\n",
       "      <td>0</td>\n",
       "      <td>114903445</td>\n",
       "    </tr>\n",
       "    <tr>\n",
       "      <th>44936387</th>\n",
       "      <td>1</td>\n",
       "      <td>100816872</td>\n",
       "    </tr>\n",
       "    <tr>\n",
       "      <th>44936388</th>\n",
       "      <td>0</td>\n",
       "      <td>114903445</td>\n",
       "    </tr>\n",
       "  </tbody>\n",
       "</table>\n",
       "<p>44936389 rows × 2 columns</p>\n",
       "</div>"
      ]
     },
     "execution_count": 5,
     "metadata": {},
     "output_type": "execute_result"
    }
   ],
   "execution_count": 5
  },
  {
   "metadata": {
    "ExecuteTime": {
     "end_time": "2025-01-26T22:51:43.193144Z",
     "start_time": "2025-01-26T22:51:35.811063Z"
    }
   },
   "cell_type": "code",
   "source": "df_work_cluster_lang.to_parquet('/run/media/rares17/f15020b9-f291-4fe9-85f0-e6bd87520125/thesis/bookdata-tools/openlibrary/clusters-ol-lang.parquet')",
   "id": "8344a0ef9640c463",
   "outputs": [],
   "execution_count": 7
  },
  {
   "metadata": {
    "ExecuteTime": {
     "end_time": "2025-01-27T00:13:32.509201Z",
     "start_time": "2025-01-27T00:13:32.081649Z"
    }
   },
   "cell_type": "code",
   "source": [
    "frequency = df['language_flag'].value_counts()\n",
    "frequency"
   ],
   "id": "9cb61cee29563a5f",
   "outputs": [
    {
     "data": {
      "text/plain": [
       "language_flag\n",
       "1    24987258\n",
       "3    12723289\n",
       "0     7206359\n",
       "2       19483\n",
       "Name: count, dtype: int64"
      ]
     },
     "execution_count": 4,
     "metadata": {},
     "output_type": "execute_result"
    }
   ],
   "execution_count": 4
  },
  {
   "metadata": {
    "ExecuteTime": {
     "end_time": "2025-01-08T00:56:02.769358Z",
     "start_time": "2025-01-08T00:56:02.684504Z"
    }
   },
   "cell_type": "code",
   "source": [
    "count = (df['language_flag'] == 1).sum()\n",
    "\n",
    "print(f\"Number of entries with value 1 in column 'language_flag': {count}\")"
   ],
   "id": "d81f99d3d9243e04",
   "outputs": [
    {
     "name": "stdout",
     "output_type": "stream",
     "text": [
      "Number of entries with value 1 in column 'language_flag': 26122381\n"
     ]
    }
   ],
   "execution_count": 8
  },
  {
   "metadata": {
    "ExecuteTime": {
     "end_time": "2025-01-08T00:56:10.043874Z",
     "start_time": "2025-01-08T00:56:09.960885Z"
    }
   },
   "cell_type": "code",
   "source": [
    "count = (df['language_flag'] == 2).sum()\n",
    "\n",
    "print(f\"Number of entries with value 2 in column 'language_flag': {count}\")\n"
   ],
   "id": "9e6bc9f5ff7bc5c2",
   "outputs": [
    {
     "name": "stdout",
     "output_type": "stream",
     "text": [
      "Number of entries with value 2 in column 'language_flag': 20242\n"
     ]
    }
   ],
   "execution_count": 9
  },
  {
   "metadata": {
    "ExecuteTime": {
     "end_time": "2025-01-08T01:09:54.380179Z",
     "start_time": "2025-01-08T01:09:54.290549Z"
    }
   },
   "cell_type": "code",
   "source": [
    "count = (df['language_flag'] == 3).sum()\n",
    "\n",
    "print(f\"Number of entries with value 3 in column 'language_flag': {count}\")"
   ],
   "id": "65145f7983763987",
   "outputs": [
    {
     "name": "stdout",
     "output_type": "stream",
     "text": [
      "Number of entries with value 3 in column 'language_flag': 13160851\n"
     ]
    }
   ],
   "execution_count": 11
  },
  {
   "metadata": {
    "ExecuteTime": {
     "end_time": "2025-01-27T23:57:34.497739Z",
     "start_time": "2025-01-27T23:57:33.769351Z"
    }
   },
   "cell_type": "code",
   "source": [
    "\n",
    "import pandas as pd\n",
    "import pyarrow\n",
    "\n",
    "df = pd.read_parquet(\n",
    "    '/run/media/rares17/f15020b9-f291-4fe9-85f0-e6bd87520125/thesis/bookdata-tools/book-links/cluster-ol-work-language.parquet',\n",
    "    engine='pyarrow')\n",
    "\n",
    "df"
   ],
   "id": "a318d6c49548d49c",
   "outputs": [
    {
     "data": {
      "text/plain": [
       "            cluster  language\n",
       "0         116449341         3\n",
       "1         128472880         1\n",
       "2         111915575         3\n",
       "3         117373473         0\n",
       "4         130100867         3\n",
       "...             ...       ...\n",
       "32686046  131568490         0\n",
       "32686047  118498770         1\n",
       "32686048  106321657         1\n",
       "32686049  136411977         0\n",
       "32686050  134339661         1\n",
       "\n",
       "[32686051 rows x 2 columns]"
      ],
      "text/html": [
       "<div>\n",
       "<style scoped>\n",
       "    .dataframe tbody tr th:only-of-type {\n",
       "        vertical-align: middle;\n",
       "    }\n",
       "\n",
       "    .dataframe tbody tr th {\n",
       "        vertical-align: top;\n",
       "    }\n",
       "\n",
       "    .dataframe thead th {\n",
       "        text-align: right;\n",
       "    }\n",
       "</style>\n",
       "<table border=\"1\" class=\"dataframe\">\n",
       "  <thead>\n",
       "    <tr style=\"text-align: right;\">\n",
       "      <th></th>\n",
       "      <th>cluster</th>\n",
       "      <th>language</th>\n",
       "    </tr>\n",
       "  </thead>\n",
       "  <tbody>\n",
       "    <tr>\n",
       "      <th>0</th>\n",
       "      <td>116449341</td>\n",
       "      <td>3</td>\n",
       "    </tr>\n",
       "    <tr>\n",
       "      <th>1</th>\n",
       "      <td>128472880</td>\n",
       "      <td>1</td>\n",
       "    </tr>\n",
       "    <tr>\n",
       "      <th>2</th>\n",
       "      <td>111915575</td>\n",
       "      <td>3</td>\n",
       "    </tr>\n",
       "    <tr>\n",
       "      <th>3</th>\n",
       "      <td>117373473</td>\n",
       "      <td>0</td>\n",
       "    </tr>\n",
       "    <tr>\n",
       "      <th>4</th>\n",
       "      <td>130100867</td>\n",
       "      <td>3</td>\n",
       "    </tr>\n",
       "    <tr>\n",
       "      <th>...</th>\n",
       "      <td>...</td>\n",
       "      <td>...</td>\n",
       "    </tr>\n",
       "    <tr>\n",
       "      <th>32686046</th>\n",
       "      <td>131568490</td>\n",
       "      <td>0</td>\n",
       "    </tr>\n",
       "    <tr>\n",
       "      <th>32686047</th>\n",
       "      <td>118498770</td>\n",
       "      <td>1</td>\n",
       "    </tr>\n",
       "    <tr>\n",
       "      <th>32686048</th>\n",
       "      <td>106321657</td>\n",
       "      <td>1</td>\n",
       "    </tr>\n",
       "    <tr>\n",
       "      <th>32686049</th>\n",
       "      <td>136411977</td>\n",
       "      <td>0</td>\n",
       "    </tr>\n",
       "    <tr>\n",
       "      <th>32686050</th>\n",
       "      <td>134339661</td>\n",
       "      <td>1</td>\n",
       "    </tr>\n",
       "  </tbody>\n",
       "</table>\n",
       "<p>32686051 rows × 2 columns</p>\n",
       "</div>"
      ]
     },
     "execution_count": 2,
     "metadata": {},
     "output_type": "execute_result"
    }
   ],
   "execution_count": 2
  },
  {
   "metadata": {
    "ExecuteTime": {
     "end_time": "2025-01-27T23:58:14.493607Z",
     "start_time": "2025-01-27T23:58:14.179678Z"
    }
   },
   "cell_type": "code",
   "source": [
    "frequency = df['language'].value_counts()\n",
    "frequency"
   ],
   "id": "dd01ac40113f744",
   "outputs": [
    {
     "data": {
      "text/plain": [
       "language\n",
       "1    16739178\n",
       "3    10725476\n",
       "0     5022241\n",
       "2      199156\n",
       "Name: count, dtype: int64"
      ]
     },
     "execution_count": 3,
     "metadata": {},
     "output_type": "execute_result"
    }
   ],
   "execution_count": 3
  },
  {
   "metadata": {
    "ExecuteTime": {
     "end_time": "2025-01-28T11:15:24.188171Z",
     "start_time": "2025-01-28T11:15:24.031123Z"
    }
   },
   "cell_type": "code",
   "source": [
    "df = pd.read_parquet(\n",
    "    '/run/media/rares17/f15020b9-f291-4fe9-85f0-e6bd87520125/thesis/bookdata-tools/loc-mds/book-languages.parquet',\n",
    "    engine='pyarrow')  # or engine='fastparquet'\n",
    "\n",
    "df"
   ],
   "id": "59d17c6b760c2c60",
   "outputs": [
    {
     "data": {
      "text/plain": [
       "         rec_id original_language translated_language\n",
       "0            45              None              engpro\n",
       "1           230               ger                 eng\n",
       "2           239              None              lateng\n",
       "3           242              None              engger\n",
       "4           267              None              engspa\n",
       "...         ...               ...                 ...\n",
       "743640  9670425               rus                 eng\n",
       "743641  9670431               fre                 eng\n",
       "743642  9670475               fre                 eng\n",
       "743643  9670499               fre                 eng\n",
       "743644  9670564              None              frejap\n",
       "\n",
       "[743645 rows x 3 columns]"
      ],
      "text/html": [
       "<div>\n",
       "<style scoped>\n",
       "    .dataframe tbody tr th:only-of-type {\n",
       "        vertical-align: middle;\n",
       "    }\n",
       "\n",
       "    .dataframe tbody tr th {\n",
       "        vertical-align: top;\n",
       "    }\n",
       "\n",
       "    .dataframe thead th {\n",
       "        text-align: right;\n",
       "    }\n",
       "</style>\n",
       "<table border=\"1\" class=\"dataframe\">\n",
       "  <thead>\n",
       "    <tr style=\"text-align: right;\">\n",
       "      <th></th>\n",
       "      <th>rec_id</th>\n",
       "      <th>original_language</th>\n",
       "      <th>translated_language</th>\n",
       "    </tr>\n",
       "  </thead>\n",
       "  <tbody>\n",
       "    <tr>\n",
       "      <th>0</th>\n",
       "      <td>45</td>\n",
       "      <td>None</td>\n",
       "      <td>engpro</td>\n",
       "    </tr>\n",
       "    <tr>\n",
       "      <th>1</th>\n",
       "      <td>230</td>\n",
       "      <td>ger</td>\n",
       "      <td>eng</td>\n",
       "    </tr>\n",
       "    <tr>\n",
       "      <th>2</th>\n",
       "      <td>239</td>\n",
       "      <td>None</td>\n",
       "      <td>lateng</td>\n",
       "    </tr>\n",
       "    <tr>\n",
       "      <th>3</th>\n",
       "      <td>242</td>\n",
       "      <td>None</td>\n",
       "      <td>engger</td>\n",
       "    </tr>\n",
       "    <tr>\n",
       "      <th>4</th>\n",
       "      <td>267</td>\n",
       "      <td>None</td>\n",
       "      <td>engspa</td>\n",
       "    </tr>\n",
       "    <tr>\n",
       "      <th>...</th>\n",
       "      <td>...</td>\n",
       "      <td>...</td>\n",
       "      <td>...</td>\n",
       "    </tr>\n",
       "    <tr>\n",
       "      <th>743640</th>\n",
       "      <td>9670425</td>\n",
       "      <td>rus</td>\n",
       "      <td>eng</td>\n",
       "    </tr>\n",
       "    <tr>\n",
       "      <th>743641</th>\n",
       "      <td>9670431</td>\n",
       "      <td>fre</td>\n",
       "      <td>eng</td>\n",
       "    </tr>\n",
       "    <tr>\n",
       "      <th>743642</th>\n",
       "      <td>9670475</td>\n",
       "      <td>fre</td>\n",
       "      <td>eng</td>\n",
       "    </tr>\n",
       "    <tr>\n",
       "      <th>743643</th>\n",
       "      <td>9670499</td>\n",
       "      <td>fre</td>\n",
       "      <td>eng</td>\n",
       "    </tr>\n",
       "    <tr>\n",
       "      <th>743644</th>\n",
       "      <td>9670564</td>\n",
       "      <td>None</td>\n",
       "      <td>frejap</td>\n",
       "    </tr>\n",
       "  </tbody>\n",
       "</table>\n",
       "<p>743645 rows × 3 columns</p>\n",
       "</div>"
      ]
     },
     "execution_count": 9,
     "metadata": {},
     "output_type": "execute_result"
    }
   ],
   "execution_count": 9
  },
  {
   "metadata": {
    "ExecuteTime": {
     "end_time": "2025-01-28T10:00:26.474457Z",
     "start_time": "2025-01-28T10:00:26.365139Z"
    }
   },
   "cell_type": "code",
   "source": [
    "frequency = df['translated_language'].value_counts()\n",
    "frequency"
   ],
   "id": "9e04ec14a04d7c6e",
   "outputs": [
    {
     "data": {
      "text/plain": [
       "translated_language\n",
       "eng                163634\n",
       "ger                 28788\n",
       "rus                 28572\n",
       "pol                 25234\n",
       "engfre              23937\n",
       "                    ...  \n",
       "czeslorusgerpol         1\n",
       "engporita               1\n",
       "gerfreengitatur         1\n",
       "czeengrusspa            1\n",
       "geraraenggrc            1\n",
       "Name: count, Length: 13019, dtype: int64"
      ]
     },
     "execution_count": 8,
     "metadata": {},
     "output_type": "execute_result"
    }
   ],
   "execution_count": 8
  },
  {
   "metadata": {
    "ExecuteTime": {
     "end_time": "2025-02-04T19:56:04.464421Z",
     "start_time": "2025-02-04T19:56:03.424863Z"
    }
   },
   "cell_type": "code",
   "source": [
    "import pandas as pd\n",
    "import pyarrow\n",
    "df = pd.read_parquet(\n",
    "    '/run/media/rares17/f15020b9-f291-4fe9-85f0-e6bd87520125/thesis/bookdata-tools/book-links/cluster-loc-translations.parquet',\n",
    "    engine='pyarrow')  # or engine='fastparquet'\n",
    "df"
   ],
   "id": "1238a72aa8ec5591",
   "outputs": [
    {
     "data": {
      "text/plain": [
       "          cluster loc_original_language\n",
       "0       102286739                 other\n",
       "1       122411864                 other\n",
       "2       100573064                 other\n",
       "3       100342614                 other\n",
       "4       104007418                 other\n",
       "...           ...                   ...\n",
       "405262  108441981                 other\n",
       "405263  119267742                   eng\n",
       "405264  105136069                 other\n",
       "405265  100779941                 other\n",
       "405266  109200547                 other\n",
       "\n",
       "[405267 rows x 2 columns]"
      ],
      "text/html": [
       "<div>\n",
       "<style scoped>\n",
       "    .dataframe tbody tr th:only-of-type {\n",
       "        vertical-align: middle;\n",
       "    }\n",
       "\n",
       "    .dataframe tbody tr th {\n",
       "        vertical-align: top;\n",
       "    }\n",
       "\n",
       "    .dataframe thead th {\n",
       "        text-align: right;\n",
       "    }\n",
       "</style>\n",
       "<table border=\"1\" class=\"dataframe\">\n",
       "  <thead>\n",
       "    <tr style=\"text-align: right;\">\n",
       "      <th></th>\n",
       "      <th>cluster</th>\n",
       "      <th>loc_original_language</th>\n",
       "    </tr>\n",
       "  </thead>\n",
       "  <tbody>\n",
       "    <tr>\n",
       "      <th>0</th>\n",
       "      <td>102286739</td>\n",
       "      <td>other</td>\n",
       "    </tr>\n",
       "    <tr>\n",
       "      <th>1</th>\n",
       "      <td>122411864</td>\n",
       "      <td>other</td>\n",
       "    </tr>\n",
       "    <tr>\n",
       "      <th>2</th>\n",
       "      <td>100573064</td>\n",
       "      <td>other</td>\n",
       "    </tr>\n",
       "    <tr>\n",
       "      <th>3</th>\n",
       "      <td>100342614</td>\n",
       "      <td>other</td>\n",
       "    </tr>\n",
       "    <tr>\n",
       "      <th>4</th>\n",
       "      <td>104007418</td>\n",
       "      <td>other</td>\n",
       "    </tr>\n",
       "    <tr>\n",
       "      <th>...</th>\n",
       "      <td>...</td>\n",
       "      <td>...</td>\n",
       "    </tr>\n",
       "    <tr>\n",
       "      <th>405262</th>\n",
       "      <td>108441981</td>\n",
       "      <td>other</td>\n",
       "    </tr>\n",
       "    <tr>\n",
       "      <th>405263</th>\n",
       "      <td>119267742</td>\n",
       "      <td>eng</td>\n",
       "    </tr>\n",
       "    <tr>\n",
       "      <th>405264</th>\n",
       "      <td>105136069</td>\n",
       "      <td>other</td>\n",
       "    </tr>\n",
       "    <tr>\n",
       "      <th>405265</th>\n",
       "      <td>100779941</td>\n",
       "      <td>other</td>\n",
       "    </tr>\n",
       "    <tr>\n",
       "      <th>405266</th>\n",
       "      <td>109200547</td>\n",
       "      <td>other</td>\n",
       "    </tr>\n",
       "  </tbody>\n",
       "</table>\n",
       "<p>405267 rows × 2 columns</p>\n",
       "</div>"
      ]
     },
     "execution_count": 1,
     "metadata": {},
     "output_type": "execute_result"
    }
   ],
   "execution_count": 1
  },
  {
   "metadata": {
    "ExecuteTime": {
     "end_time": "2025-01-29T00:46:03.003403Z",
     "start_time": "2025-01-29T00:46:00.177045Z"
    }
   },
   "cell_type": "code",
   "source": [
    "frequency = df['language'].value_counts()\n",
    "frequency"
   ],
   "id": "a890255afacb1c1f",
   "outputs": [
    {
     "data": {
      "text/plain": [
       "language\n",
       "no-book-author    20099572\n",
       "no-author-rec      6623161\n",
       "other              4044264\n",
       "english            3725449\n",
       "no-language        3612131\n",
       "unknown            1451388\n",
       "Name: count, dtype: int64"
      ]
     },
     "execution_count": 11,
     "metadata": {},
     "output_type": "execute_result"
    }
   ],
   "execution_count": 11
  },
  {
   "metadata": {
    "ExecuteTime": {
     "end_time": "2025-02-04T19:56:33.531636Z",
     "start_time": "2025-02-04T19:56:33.462629Z"
    }
   },
   "cell_type": "code",
   "source": [
    "frequency = df['loc_original_language'].value_counts()\n",
    "frequency"
   ],
   "id": "55b1ba696e567843",
   "outputs": [
    {
     "data": {
      "text/plain": [
       "loc_original_language\n",
       "other        357279\n",
       "eng           46860\n",
       "ambiguous      1090\n",
       "unknown          38\n",
       "Name: count, dtype: int64"
      ]
     },
     "execution_count": 3,
     "metadata": {},
     "output_type": "execute_result"
    }
   ],
   "execution_count": 3
  },
  {
   "metadata": {
    "ExecuteTime": {
     "end_time": "2025-02-05T11:46:44.761317Z",
     "start_time": "2025-02-05T11:46:44.586043Z"
    }
   },
   "cell_type": "code",
   "source": [
    "import pandas as pd\n",
    "import pyarrow\n",
    "df = pd.read_parquet(\n",
    "    '/run/media/rares17/f15020b9-f291-4fe9-85f0-e6bd87520125/thesis/bookdata-tools/book-links/merged_languages.parquet',\n",
    "    engine='pyarrow')\n",
    "df"
   ],
   "id": "bd97a97a63ba7ec1",
   "outputs": [
    {
     "data": {
      "text/plain": [
       "          work_id language_loc language_author  language_ol\n",
       "0         1201944         None            None          1.0\n",
       "1        21512709         None           other          1.0\n",
       "2        22584751         None            None          NaN\n",
       "3        24645916         None            None          1.0\n",
       "4        19219660         None            None          NaN\n",
       "...           ...          ...             ...          ...\n",
       "1521957   9771623         None            None          NaN\n",
       "1521958  24132790         None            None          NaN\n",
       "1521959    197636         None         unknown          1.0\n",
       "1521960   2145002         None           other          1.0\n",
       "1521961  21746046         None            None          NaN\n",
       "\n",
       "[1521962 rows x 4 columns]"
      ],
      "text/html": [
       "<div>\n",
       "<style scoped>\n",
       "    .dataframe tbody tr th:only-of-type {\n",
       "        vertical-align: middle;\n",
       "    }\n",
       "\n",
       "    .dataframe tbody tr th {\n",
       "        vertical-align: top;\n",
       "    }\n",
       "\n",
       "    .dataframe thead th {\n",
       "        text-align: right;\n",
       "    }\n",
       "</style>\n",
       "<table border=\"1\" class=\"dataframe\">\n",
       "  <thead>\n",
       "    <tr style=\"text-align: right;\">\n",
       "      <th></th>\n",
       "      <th>work_id</th>\n",
       "      <th>language_loc</th>\n",
       "      <th>language_author</th>\n",
       "      <th>language_ol</th>\n",
       "    </tr>\n",
       "  </thead>\n",
       "  <tbody>\n",
       "    <tr>\n",
       "      <th>0</th>\n",
       "      <td>1201944</td>\n",
       "      <td>None</td>\n",
       "      <td>None</td>\n",
       "      <td>1.0</td>\n",
       "    </tr>\n",
       "    <tr>\n",
       "      <th>1</th>\n",
       "      <td>21512709</td>\n",
       "      <td>None</td>\n",
       "      <td>other</td>\n",
       "      <td>1.0</td>\n",
       "    </tr>\n",
       "    <tr>\n",
       "      <th>2</th>\n",
       "      <td>22584751</td>\n",
       "      <td>None</td>\n",
       "      <td>None</td>\n",
       "      <td>NaN</td>\n",
       "    </tr>\n",
       "    <tr>\n",
       "      <th>3</th>\n",
       "      <td>24645916</td>\n",
       "      <td>None</td>\n",
       "      <td>None</td>\n",
       "      <td>1.0</td>\n",
       "    </tr>\n",
       "    <tr>\n",
       "      <th>4</th>\n",
       "      <td>19219660</td>\n",
       "      <td>None</td>\n",
       "      <td>None</td>\n",
       "      <td>NaN</td>\n",
       "    </tr>\n",
       "    <tr>\n",
       "      <th>...</th>\n",
       "      <td>...</td>\n",
       "      <td>...</td>\n",
       "      <td>...</td>\n",
       "      <td>...</td>\n",
       "    </tr>\n",
       "    <tr>\n",
       "      <th>1521957</th>\n",
       "      <td>9771623</td>\n",
       "      <td>None</td>\n",
       "      <td>None</td>\n",
       "      <td>NaN</td>\n",
       "    </tr>\n",
       "    <tr>\n",
       "      <th>1521958</th>\n",
       "      <td>24132790</td>\n",
       "      <td>None</td>\n",
       "      <td>None</td>\n",
       "      <td>NaN</td>\n",
       "    </tr>\n",
       "    <tr>\n",
       "      <th>1521959</th>\n",
       "      <td>197636</td>\n",
       "      <td>None</td>\n",
       "      <td>unknown</td>\n",
       "      <td>1.0</td>\n",
       "    </tr>\n",
       "    <tr>\n",
       "      <th>1521960</th>\n",
       "      <td>2145002</td>\n",
       "      <td>None</td>\n",
       "      <td>other</td>\n",
       "      <td>1.0</td>\n",
       "    </tr>\n",
       "    <tr>\n",
       "      <th>1521961</th>\n",
       "      <td>21746046</td>\n",
       "      <td>None</td>\n",
       "      <td>None</td>\n",
       "      <td>NaN</td>\n",
       "    </tr>\n",
       "  </tbody>\n",
       "</table>\n",
       "<p>1521962 rows × 4 columns</p>\n",
       "</div>"
      ]
     },
     "execution_count": 3,
     "metadata": {},
     "output_type": "execute_result"
    }
   ],
   "execution_count": 3
  },
  {
   "metadata": {
    "ExecuteTime": {
     "end_time": "2025-02-05T11:46:49.013460Z",
     "start_time": "2025-02-05T11:46:48.962394Z"
    }
   },
   "cell_type": "code",
   "source": [
    "frequency = df['language_loc'].value_counts()\n",
    "frequency"
   ],
   "id": "27760e5cd946bc36",
   "outputs": [
    {
     "data": {
      "text/plain": [
       "language_loc\n",
       "other        25027\n",
       "eng           2240\n",
       "ambiguous     1107\n",
       "Name: count, dtype: int64"
      ]
     },
     "execution_count": 4,
     "metadata": {},
     "output_type": "execute_result"
    }
   ],
   "execution_count": 4
  },
  {
   "metadata": {},
   "cell_type": "markdown",
   "source": "# RQ1 Analysis",
   "id": "7bc4587736e18d81"
  },
  {
   "metadata": {
    "ExecuteTime": {
     "end_time": "2025-05-18T19:03:22.152663Z",
     "start_time": "2025-05-18T19:03:21.704499Z"
    }
   },
   "cell_type": "code",
   "source": [
    "import pandas as pd\n",
    "import pyarrow\n",
    "df = pd.read_parquet(\n",
    "    '/run/media/rares17/f15020b9-f291-4fe9-85f0-e6bd87520125/thesis/bookdata-tools/book-links/deduced_languages.parquet',\n",
    "    engine='pyarrow')\n",
    "df"
   ],
   "id": "8dc78a3fc3472331",
   "outputs": [
    {
     "data": {
      "text/plain": [
       "          work_id             deduced_language\n",
       "0        13595490                 eng-original\n",
       "1        28069067  other-translation-not-found\n",
       "2         6832578             other-translated\n",
       "3        26085788                      unknown\n",
       "4        16947674                 eng-original\n",
       "...           ...                          ...\n",
       "1521957    196000                      unknown\n",
       "1521958   1280700                 eng-original\n",
       "1521959  47330041                      unknown\n",
       "1521960    301191                 eng-original\n",
       "1521961  44637545                      unknown\n",
       "\n",
       "[1521962 rows x 2 columns]"
      ],
      "text/html": [
       "<div>\n",
       "<style scoped>\n",
       "    .dataframe tbody tr th:only-of-type {\n",
       "        vertical-align: middle;\n",
       "    }\n",
       "\n",
       "    .dataframe tbody tr th {\n",
       "        vertical-align: top;\n",
       "    }\n",
       "\n",
       "    .dataframe thead th {\n",
       "        text-align: right;\n",
       "    }\n",
       "</style>\n",
       "<table border=\"1\" class=\"dataframe\">\n",
       "  <thead>\n",
       "    <tr style=\"text-align: right;\">\n",
       "      <th></th>\n",
       "      <th>work_id</th>\n",
       "      <th>deduced_language</th>\n",
       "    </tr>\n",
       "  </thead>\n",
       "  <tbody>\n",
       "    <tr>\n",
       "      <th>0</th>\n",
       "      <td>13595490</td>\n",
       "      <td>eng-original</td>\n",
       "    </tr>\n",
       "    <tr>\n",
       "      <th>1</th>\n",
       "      <td>28069067</td>\n",
       "      <td>other-translation-not-found</td>\n",
       "    </tr>\n",
       "    <tr>\n",
       "      <th>2</th>\n",
       "      <td>6832578</td>\n",
       "      <td>other-translated</td>\n",
       "    </tr>\n",
       "    <tr>\n",
       "      <th>3</th>\n",
       "      <td>26085788</td>\n",
       "      <td>unknown</td>\n",
       "    </tr>\n",
       "    <tr>\n",
       "      <th>4</th>\n",
       "      <td>16947674</td>\n",
       "      <td>eng-original</td>\n",
       "    </tr>\n",
       "    <tr>\n",
       "      <th>...</th>\n",
       "      <td>...</td>\n",
       "      <td>...</td>\n",
       "    </tr>\n",
       "    <tr>\n",
       "      <th>1521957</th>\n",
       "      <td>196000</td>\n",
       "      <td>unknown</td>\n",
       "    </tr>\n",
       "    <tr>\n",
       "      <th>1521958</th>\n",
       "      <td>1280700</td>\n",
       "      <td>eng-original</td>\n",
       "    </tr>\n",
       "    <tr>\n",
       "      <th>1521959</th>\n",
       "      <td>47330041</td>\n",
       "      <td>unknown</td>\n",
       "    </tr>\n",
       "    <tr>\n",
       "      <th>1521960</th>\n",
       "      <td>301191</td>\n",
       "      <td>eng-original</td>\n",
       "    </tr>\n",
       "    <tr>\n",
       "      <th>1521961</th>\n",
       "      <td>44637545</td>\n",
       "      <td>unknown</td>\n",
       "    </tr>\n",
       "  </tbody>\n",
       "</table>\n",
       "<p>1521962 rows × 2 columns</p>\n",
       "</div>"
      ]
     },
     "execution_count": 1,
     "metadata": {},
     "output_type": "execute_result"
    }
   ],
   "execution_count": 1
  },
  {
   "metadata": {
    "ExecuteTime": {
     "end_time": "2025-05-18T19:03:24.899858Z",
     "start_time": "2025-05-18T19:03:24.762004Z"
    }
   },
   "cell_type": "code",
   "source": "df['deduced_language'].value_counts(normalize=True)",
   "id": "341df2b7462b7007",
   "outputs": [
    {
     "data": {
      "text/plain": [
       "deduced_language\n",
       "unknown                        0.540126\n",
       "eng-original                   0.319142\n",
       "other-translated               0.091811\n",
       "other-translation-not-found    0.031959\n",
       "ambiguous                      0.016962\n",
       "Name: proportion, dtype: float64"
      ]
     },
     "execution_count": 2,
     "metadata": {},
     "output_type": "execute_result"
    }
   ],
   "execution_count": 2
  },
  {
   "metadata": {
    "ExecuteTime": {
     "end_time": "2025-05-18T19:04:12.570251Z",
     "start_time": "2025-05-18T19:04:12.050639Z"
    }
   },
   "cell_type": "code",
   "source": [
    "import seaborn as sns\n",
    "import matplotlib.pyplot as plt\n",
    "\n",
    "# Calculate proportions\n",
    "language_counts = df['deduced_language'].value_counts(normalize=True)  # normalize=True gives proportions\n",
    "language_counts = language_counts.rename(index={\n",
    "    'other-translation-not-found': 'other-not-translated',\n",
    "})\n",
    "plt.figure(figsize=(10, 6))\n",
    "ax = sns.barplot(x=language_counts.index, y=language_counts.values, palette='muted')\n",
    "\n",
    "plt.xlabel('')\n",
    "plt.ylabel('Books')\n",
    "plt.xticks(rotation=45)\n",
    "\n",
    "# Add proportion values on top of each bar\n",
    "for p in ax.patches:\n",
    "    ax.annotate(\n",
    "        f'{p.get_height():.2%}',  # Convert to percentage format\n",
    "        (p.get_x() + p.get_width() / 2., p.get_height()),  # Position of the text\n",
    "        ha='center',  # Horizontal alignment\n",
    "        va='center',  # Vertical alignment\n",
    "        xytext=(0, 5),  # Offset from the bar\n",
    "        textcoords='offset points',\n",
    "    )\n",
    "ax.set_yticklabels(['{:.0f}%'.format(y * 100) for y in ax.get_yticks()])\n",
    "\n",
    "plt.tight_layout()"
   ],
   "id": "8f0c3bc12c16f63f",
   "outputs": [
    {
     "name": "stderr",
     "output_type": "stream",
     "text": [
      "/tmp/ipykernel_2442602/909831585.py:10: FutureWarning: \n",
      "\n",
      "Passing `palette` without assigning `hue` is deprecated and will be removed in v0.14.0. Assign the `x` variable to `hue` and set `legend=False` for the same effect.\n",
      "\n",
      "  ax = sns.barplot(x=language_counts.index, y=language_counts.values, palette='muted')\n",
      "/tmp/ipykernel_2442602/909831585.py:26: UserWarning: set_ticklabels() should only be used with a fixed number of ticks, i.e. after set_ticks() or using a FixedLocator.\n",
      "  ax.set_yticklabels(['{:.0f}%'.format(y * 100) for y in ax.get_yticks()])\n"
     ]
    },
    {
     "data": {
      "text/plain": [
       "<Figure size 1000x600 with 1 Axes>"
      ],
      "image/png": "[encoded data removed]"
     },
     "metadata": {},
     "output_type": "display_data"
    }
   ],
   "execution_count": 3
  },
  {
   "metadata": {
    "ExecuteTime": {
     "end_time": "2025-05-18T19:05:01.396870Z",
     "start_time": "2025-05-18T19:05:00.612450Z"
    }
   },
   "cell_type": "code",
   "source": [
    "genres_df = pd.read_parquet(\n",
    "    '/run/media/rares17/f15020b9-f291-4fe9-85f0-e6bd87520125/thesis/bookdata-tools/goodreads/gr-book-genres.parquet',\n",
    "    engine='pyarrow')\n",
    "genres_df"
   ],
   "id": "94510138beccf845",
   "outputs": [
    {
     "data": {
      "text/plain": [
       "          book_id  genre_id  count\n",
       "0         5333265         1      1\n",
       "1         1333909         2    219\n",
       "2         1333909         1      5\n",
       "3         7327624         2      8\n",
       "4         7327624         3      1\n",
       "...           ...       ...    ...\n",
       "5042537   2342551         9      1\n",
       "5042538  22017381         5      2\n",
       "5042539  22017381         6     13\n",
       "5042540  11419866         2      4\n",
       "5042541  11419866         6     19\n",
       "\n",
       "[5042542 rows x 3 columns]"
      ],
      "text/html": [
       "<div>\n",
       "<style scoped>\n",
       "    .dataframe tbody tr th:only-of-type {\n",
       "        vertical-align: middle;\n",
       "    }\n",
       "\n",
       "    .dataframe tbody tr th {\n",
       "        vertical-align: top;\n",
       "    }\n",
       "\n",
       "    .dataframe thead th {\n",
       "        text-align: right;\n",
       "    }\n",
       "</style>\n",
       "<table border=\"1\" class=\"dataframe\">\n",
       "  <thead>\n",
       "    <tr style=\"text-align: right;\">\n",
       "      <th></th>\n",
       "      <th>book_id</th>\n",
       "      <th>genre_id</th>\n",
       "      <th>count</th>\n",
       "    </tr>\n",
       "  </thead>\n",
       "  <tbody>\n",
       "    <tr>\n",
       "      <th>0</th>\n",
       "      <td>5333265</td>\n",
       "      <td>1</td>\n",
       "      <td>1</td>\n",
       "    </tr>\n",
       "    <tr>\n",
       "      <th>1</th>\n",
       "      <td>1333909</td>\n",
       "      <td>2</td>\n",
       "      <td>219</td>\n",
       "    </tr>\n",
       "    <tr>\n",
       "      <th>2</th>\n",
       "      <td>1333909</td>\n",
       "      <td>1</td>\n",
       "      <td>5</td>\n",
       "    </tr>\n",
       "    <tr>\n",
       "      <th>3</th>\n",
       "      <td>7327624</td>\n",
       "      <td>2</td>\n",
       "      <td>8</td>\n",
       "    </tr>\n",
       "    <tr>\n",
       "      <th>4</th>\n",
       "      <td>7327624</td>\n",
       "      <td>3</td>\n",
       "      <td>1</td>\n",
       "    </tr>\n",
       "    <tr>\n",
       "      <th>...</th>\n",
       "      <td>...</td>\n",
       "      <td>...</td>\n",
       "      <td>...</td>\n",
       "    </tr>\n",
       "    <tr>\n",
       "      <th>5042537</th>\n",
       "      <td>2342551</td>\n",
       "      <td>9</td>\n",
       "      <td>1</td>\n",
       "    </tr>\n",
       "    <tr>\n",
       "      <th>5042538</th>\n",
       "      <td>22017381</td>\n",
       "      <td>5</td>\n",
       "      <td>2</td>\n",
       "    </tr>\n",
       "    <tr>\n",
       "      <th>5042539</th>\n",
       "      <td>22017381</td>\n",
       "      <td>6</td>\n",
       "      <td>13</td>\n",
       "    </tr>\n",
       "    <tr>\n",
       "      <th>5042540</th>\n",
       "      <td>11419866</td>\n",
       "      <td>2</td>\n",
       "      <td>4</td>\n",
       "    </tr>\n",
       "    <tr>\n",
       "      <th>5042541</th>\n",
       "      <td>11419866</td>\n",
       "      <td>6</td>\n",
       "      <td>19</td>\n",
       "    </tr>\n",
       "  </tbody>\n",
       "</table>\n",
       "<p>5042542 rows × 3 columns</p>\n",
       "</div>"
      ]
     },
     "execution_count": 4,
     "metadata": {},
     "output_type": "execute_result"
    }
   ],
   "execution_count": 4
  },
  {
   "metadata": {
    "ExecuteTime": {
     "end_time": "2025-05-18T19:05:11.006626Z",
     "start_time": "2025-05-18T19:05:03.854777Z"
    }
   },
   "cell_type": "code",
   "source": [
    "book_id_df = pd.read_parquet(\n",
    "    '/run/media/rares17/f15020b9-f291-4fe9-85f0-e6bd87520125/thesis/bookdata-tools/goodreads/gr-book-ids.parquet',\n",
    "    engine='pyarrow')\n",
    "book_id_df =  book_id_df[['book_id', 'work_id']]\n",
    "book_id_df = book_id_df.dropna(subset=['work_id'])\n",
    "book_id_df['work_id'] = book_id_df['work_id'].astype(int)\n",
    "book_id_df = book_id_df.drop_duplicates()\n",
    "book_id_df"
   ],
   "id": "a623ac8eb2c82f8e",
   "outputs": [
    {
     "data": {
      "text/plain": [
       "          book_id   work_id\n",
       "0         5333265   5400751\n",
       "1         1333909   1323437\n",
       "2         7327624   8948723\n",
       "3         6066819   6243154\n",
       "4          287140    278577\n",
       "...           ...       ...\n",
       "2360650   3084038   3115103\n",
       "2360651  26168430  46130263\n",
       "2360652   2342551   2349247\n",
       "2360653  22017381  41332799\n",
       "2360654  11419866   2206102\n",
       "\n",
       "[2360131 rows x 2 columns]"
      ],
      "text/html": [
       "<div>\n",
       "<style scoped>\n",
       "    .dataframe tbody tr th:only-of-type {\n",
       "        vertical-align: middle;\n",
       "    }\n",
       "\n",
       "    .dataframe tbody tr th {\n",
       "        vertical-align: top;\n",
       "    }\n",
       "\n",
       "    .dataframe thead th {\n",
       "        text-align: right;\n",
       "    }\n",
       "</style>\n",
       "<table border=\"1\" class=\"dataframe\">\n",
       "  <thead>\n",
       "    <tr style=\"text-align: right;\">\n",
       "      <th></th>\n",
       "      <th>book_id</th>\n",
       "      <th>work_id</th>\n",
       "    </tr>\n",
       "  </thead>\n",
       "  <tbody>\n",
       "    <tr>\n",
       "      <th>0</th>\n",
       "      <td>5333265</td>\n",
       "      <td>5400751</td>\n",
       "    </tr>\n",
       "    <tr>\n",
       "      <th>1</th>\n",
       "      <td>1333909</td>\n",
       "      <td>1323437</td>\n",
       "    </tr>\n",
       "    <tr>\n",
       "      <th>2</th>\n",
       "      <td>7327624</td>\n",
       "      <td>8948723</td>\n",
       "    </tr>\n",
       "    <tr>\n",
       "      <th>3</th>\n",
       "      <td>6066819</td>\n",
       "      <td>6243154</td>\n",
       "    </tr>\n",
       "    <tr>\n",
       "      <th>4</th>\n",
       "      <td>287140</td>\n",
       "      <td>278577</td>\n",
       "    </tr>\n",
       "    <tr>\n",
       "      <th>...</th>\n",
       "      <td>...</td>\n",
       "      <td>...</td>\n",
       "    </tr>\n",
       "    <tr>\n",
       "      <th>2360650</th>\n",
       "      <td>3084038</td>\n",
       "      <td>3115103</td>\n",
       "    </tr>\n",
       "    <tr>\n",
       "      <th>2360651</th>\n",
       "      <td>26168430</td>\n",
       "      <td>46130263</td>\n",
       "    </tr>\n",
       "    <tr>\n",
       "      <th>2360652</th>\n",
       "      <td>2342551</td>\n",
       "      <td>2349247</td>\n",
       "    </tr>\n",
       "    <tr>\n",
       "      <th>2360653</th>\n",
       "      <td>22017381</td>\n",
       "      <td>41332799</td>\n",
       "    </tr>\n",
       "    <tr>\n",
       "      <th>2360654</th>\n",
       "      <td>11419866</td>\n",
       "      <td>2206102</td>\n",
       "    </tr>\n",
       "  </tbody>\n",
       "</table>\n",
       "<p>2360131 rows × 2 columns</p>\n",
       "</div>"
      ]
     },
     "execution_count": 5,
     "metadata": {},
     "output_type": "execute_result"
    }
   ],
   "execution_count": 5
  },
  {
   "metadata": {
    "ExecuteTime": {
     "end_time": "2025-05-18T19:05:21.652647Z",
     "start_time": "2025-05-18T19:05:11.210934Z"
    }
   },
   "cell_type": "code",
   "source": [
    "book_id_genre_df = pd.merge(genres_df, book_id_df, on='book_id')\n",
    "book_id_genre_df = book_id_genre_df[['work_id', 'count', 'genre_id']]\n",
    "\n",
    "book_id_genre_df = book_id_genre_df.groupby(['work_id', 'genre_id'], as_index=False)['count'].sum()\n",
    "book_id_genre_df = book_id_genre_df.loc[book_id_genre_df.groupby('work_id')['count'].idxmax()]\n",
    "book_id_genre_df = book_id_genre_df.reset_index(drop=True)\n",
    "\n",
    "print(book_id_genre_df)"
   ],
   "id": "2491a099a43269f8",
   "outputs": [
    {
     "name": "stdout",
     "output_type": "stream",
     "text": [
      "          work_id  genre_id  count\n",
      "0              40         7    272\n",
      "1              62         2    648\n",
      "2              81         8     48\n",
      "3              84         8    846\n",
      "4              87         2   5580\n",
      "...           ...       ...    ...\n",
      "1125877  58369092         4     12\n",
      "1125878  58369899         4     42\n",
      "1125879  58370103         5      6\n",
      "1125880  58374571        10     36\n",
      "1125881  58377018         9      3\n",
      "\n",
      "[1125882 rows x 3 columns]\n"
     ]
    }
   ],
   "execution_count": 6
  },
  {
   "metadata": {
    "ExecuteTime": {
     "end_time": "2025-05-18T19:05:22.742384Z",
     "start_time": "2025-05-18T19:05:21.803991Z"
    }
   },
   "cell_type": "code",
   "source": [
    "work_genre_lang = book_id_genre_df.merge(df, on='work_id', how='left')\n",
    "work_genre_lang"
   ],
   "id": "12e30641b45ff0dc",
   "outputs": [
    {
     "data": {
      "text/plain": [
       "          work_id  genre_id  count  deduced_language\n",
       "0              40         7    272         ambiguous\n",
       "1              62         2    648  other-translated\n",
       "2              81         8     48      eng-original\n",
       "3              84         8    846         ambiguous\n",
       "4              87         2   5580         ambiguous\n",
       "...           ...       ...    ...               ...\n",
       "1125877  58369092         4     12           unknown\n",
       "1125878  58369899         4     42      eng-original\n",
       "1125879  58370103         5      6           unknown\n",
       "1125880  58374571        10     36  other-translated\n",
       "1125881  58377018         9      3           unknown\n",
       "\n",
       "[1125882 rows x 4 columns]"
      ],
      "text/html": [
       "<div>\n",
       "<style scoped>\n",
       "    .dataframe tbody tr th:only-of-type {\n",
       "        vertical-align: middle;\n",
       "    }\n",
       "\n",
       "    .dataframe tbody tr th {\n",
       "        vertical-align: top;\n",
       "    }\n",
       "\n",
       "    .dataframe thead th {\n",
       "        text-align: right;\n",
       "    }\n",
       "</style>\n",
       "<table border=\"1\" class=\"dataframe\">\n",
       "  <thead>\n",
       "    <tr style=\"text-align: right;\">\n",
       "      <th></th>\n",
       "      <th>work_id</th>\n",
       "      <th>genre_id</th>\n",
       "      <th>count</th>\n",
       "      <th>deduced_language</th>\n",
       "    </tr>\n",
       "  </thead>\n",
       "  <tbody>\n",
       "    <tr>\n",
       "      <th>0</th>\n",
       "      <td>40</td>\n",
       "      <td>7</td>\n",
       "      <td>272</td>\n",
       "      <td>ambiguous</td>\n",
       "    </tr>\n",
       "    <tr>\n",
       "      <th>1</th>\n",
       "      <td>62</td>\n",
       "      <td>2</td>\n",
       "      <td>648</td>\n",
       "      <td>other-translated</td>\n",
       "    </tr>\n",
       "    <tr>\n",
       "      <th>2</th>\n",
       "      <td>81</td>\n",
       "      <td>8</td>\n",
       "      <td>48</td>\n",
       "      <td>eng-original</td>\n",
       "    </tr>\n",
       "    <tr>\n",
       "      <th>3</th>\n",
       "      <td>84</td>\n",
       "      <td>8</td>\n",
       "      <td>846</td>\n",
       "      <td>ambiguous</td>\n",
       "    </tr>\n",
       "    <tr>\n",
       "      <th>4</th>\n",
       "      <td>87</td>\n",
       "      <td>2</td>\n",
       "      <td>5580</td>\n",
       "      <td>ambiguous</td>\n",
       "    </tr>\n",
       "    <tr>\n",
       "      <th>...</th>\n",
       "      <td>...</td>\n",
       "      <td>...</td>\n",
       "      <td>...</td>\n",
       "      <td>...</td>\n",
       "    </tr>\n",
       "    <tr>\n",
       "      <th>1125877</th>\n",
       "      <td>58369092</td>\n",
       "      <td>4</td>\n",
       "      <td>12</td>\n",
       "      <td>unknown</td>\n",
       "    </tr>\n",
       "    <tr>\n",
       "      <th>1125878</th>\n",
       "      <td>58369899</td>\n",
       "      <td>4</td>\n",
       "      <td>42</td>\n",
       "      <td>eng-original</td>\n",
       "    </tr>\n",
       "    <tr>\n",
       "      <th>1125879</th>\n",
       "      <td>58370103</td>\n",
       "      <td>5</td>\n",
       "      <td>6</td>\n",
       "      <td>unknown</td>\n",
       "    </tr>\n",
       "    <tr>\n",
       "      <th>1125880</th>\n",
       "      <td>58374571</td>\n",
       "      <td>10</td>\n",
       "      <td>36</td>\n",
       "      <td>other-translated</td>\n",
       "    </tr>\n",
       "    <tr>\n",
       "      <th>1125881</th>\n",
       "      <td>58377018</td>\n",
       "      <td>9</td>\n",
       "      <td>3</td>\n",
       "      <td>unknown</td>\n",
       "    </tr>\n",
       "  </tbody>\n",
       "</table>\n",
       "<p>1125882 rows × 4 columns</p>\n",
       "</div>"
      ]
     },
     "execution_count": 7,
     "metadata": {},
     "output_type": "execute_result"
    }
   ],
   "execution_count": 7
  },
  {
   "metadata": {
    "ExecuteTime": {
     "end_time": "2025-05-18T19:05:22.925382Z",
     "start_time": "2025-05-18T19:05:22.903351Z"
    }
   },
   "cell_type": "code",
   "source": [
    "genre_categories_df = pd.read_parquet(\n",
    "    '/run/media/rares17/f15020b9-f291-4fe9-85f0-e6bd87520125/thesis/bookdata-tools/goodreads/gr-genres.parquet',\n",
    "    engine='pyarrow')\n",
    "genre_categories_df"
   ],
   "id": "560a94fec51d5ed9",
   "outputs": [
    {
     "data": {
      "text/plain": [
       "   genre_id                                   genre\n",
       "0         1  history, historical fiction, biography\n",
       "1         2                                 fiction\n",
       "2         3                                  poetry\n",
       "3         4                     fantasy, paranormal\n",
       "4         5                mystery, thriller, crime\n",
       "5         6                                 romance\n",
       "6         7                             non-fiction\n",
       "7         8                                children\n",
       "8         9                             young-adult\n",
       "9        10                         comics, graphic"
      ],
      "text/html": [
       "<div>\n",
       "<style scoped>\n",
       "    .dataframe tbody tr th:only-of-type {\n",
       "        vertical-align: middle;\n",
       "    }\n",
       "\n",
       "    .dataframe tbody tr th {\n",
       "        vertical-align: top;\n",
       "    }\n",
       "\n",
       "    .dataframe thead th {\n",
       "        text-align: right;\n",
       "    }\n",
       "</style>\n",
       "<table border=\"1\" class=\"dataframe\">\n",
       "  <thead>\n",
       "    <tr style=\"text-align: right;\">\n",
       "      <th></th>\n",
       "      <th>genre_id</th>\n",
       "      <th>genre</th>\n",
       "    </tr>\n",
       "  </thead>\n",
       "  <tbody>\n",
       "    <tr>\n",
       "      <th>0</th>\n",
       "      <td>1</td>\n",
       "      <td>history, historical fiction, biography</td>\n",
       "    </tr>\n",
       "    <tr>\n",
       "      <th>1</th>\n",
       "      <td>2</td>\n",
       "      <td>fiction</td>\n",
       "    </tr>\n",
       "    <tr>\n",
       "      <th>2</th>\n",
       "      <td>3</td>\n",
       "      <td>poetry</td>\n",
       "    </tr>\n",
       "    <tr>\n",
       "      <th>3</th>\n",
       "      <td>4</td>\n",
       "      <td>fantasy, paranormal</td>\n",
       "    </tr>\n",
       "    <tr>\n",
       "      <th>4</th>\n",
       "      <td>5</td>\n",
       "      <td>mystery, thriller, crime</td>\n",
       "    </tr>\n",
       "    <tr>\n",
       "      <th>5</th>\n",
       "      <td>6</td>\n",
       "      <td>romance</td>\n",
       "    </tr>\n",
       "    <tr>\n",
       "      <th>6</th>\n",
       "      <td>7</td>\n",
       "      <td>non-fiction</td>\n",
       "    </tr>\n",
       "    <tr>\n",
       "      <th>7</th>\n",
       "      <td>8</td>\n",
       "      <td>children</td>\n",
       "    </tr>\n",
       "    <tr>\n",
       "      <th>8</th>\n",
       "      <td>9</td>\n",
       "      <td>young-adult</td>\n",
       "    </tr>\n",
       "    <tr>\n",
       "      <th>9</th>\n",
       "      <td>10</td>\n",
       "      <td>comics, graphic</td>\n",
       "    </tr>\n",
       "  </tbody>\n",
       "</table>\n",
       "</div>"
      ]
     },
     "execution_count": 8,
     "metadata": {},
     "output_type": "execute_result"
    }
   ],
   "execution_count": 8
  },
  {
   "metadata": {
    "ExecuteTime": {
     "end_time": "2025-02-26T08:40:38.261572Z",
     "start_time": "2025-02-26T08:40:37.815646Z"
    }
   },
   "cell_type": "code",
   "source": [
    "df_nonfiction = work_genre_lang[work_genre_lang['genre_id'] == 1]\n",
    "import seaborn as sns\n",
    "import matplotlib.pyplot as plt\n",
    "language_counts = df_nonfiction['deduced_language'].value_counts(normalize=True)\n",
    "\n",
    "plt.figure(figsize=(10, 6))\n",
    "ax = sns.barplot(x=language_counts.index, y=language_counts.values, color='steelblue')\n",
    "\n",
    "plt.xlabel('Deduced Language')\n",
    "plt.ylabel('Occurrences')\n",
    "plt.title('Deduced Language for Works of Nonfiction')\n",
    "\n",
    "plt.xticks(rotation=45)\n",
    "# Add the count values on top of each bar\n",
    "for p in ax.patches:\n",
    "    ax.annotate(\n",
    "        f'{int(p.get_height())}',  # Text to display (the count)\n",
    "        (p.get_x() + p.get_width() / 2., p.get_height()),  # Position of the text\n",
    "        ha='center',  # Horizontal alignment\n",
    "        va='center',  # Vertical alignmentsteelblue\n",
    "        xytext=(0, 5),  # Offset from the bar\n",
    "        textcoords='offset points',\n",
    "    )\n",
    "\n",
    "plt.tight_layout()\n",
    "plt.show()"
   ],
   "id": "6bcf78ecc403dd6a",
   "outputs": [
    {
     "data": {
      "text/plain": [
       "<Figure size 1000x600 with 1 Axes>"
      ],
      "image/png": "[encoded data removed]"
     },
     "metadata": {},
     "output_type": "display_data"
    }
   ],
   "execution_count": 9
  },
  {
   "metadata": {
    "ExecuteTime": {
     "end_time": "2025-02-26T08:40:42.953013Z",
     "start_time": "2025-02-26T08:40:42.495278Z"
    }
   },
   "cell_type": "code",
   "source": [
    "df_romance = work_genre_lang[work_genre_lang['genre_id'] == 6]\n",
    "import seaborn as sns\n",
    "import matplotlib.pyplot as plt\n",
    "language_counts = df_romance['deduced_language'].value_counts()\n",
    "\n",
    "plt.figure(figsize=(10, 6))\n",
    "ax = sns.barplot(x=language_counts.index, y=language_counts.values, color='steelblue')\n",
    "\n",
    "plt.xlabel('Deduced Language')\n",
    "plt.ylabel('Occurrences')\n",
    "plt.title('Deduced Language for Works of Romance')\n",
    "\n",
    "plt.xticks(rotation=45)\n",
    "# Add the count values on top of each bar\n",
    "for p in ax.patches:\n",
    "    ax.annotate(\n",
    "        f'{int(p.get_height())}',  # Text to display (the count)\n",
    "        (p.get_x() + p.get_width() / 2., p.get_height()),  # Position of the text\n",
    "        ha='center',  # Horizontal alignment\n",
    "        va='center',  # Vertical alignment\n",
    "        xytext=(0, 5),  # Offset from the bar\n",
    "        textcoords='offset points',\n",
    "    )\n",
    "\n",
    "plt.tight_layout()\n",
    "plt.show()"
   ],
   "id": "7642a326666c268",
   "outputs": [
    {
     "data": {
      "text/plain": [
       "<Figure size 1000x600 with 1 Axes>"
      ],
      "image/png": "[encoded data removed]"
     },
     "metadata": {},
     "output_type": "display_data"
    }
   ],
   "execution_count": 10
  },
  {
   "metadata": {
    "ExecuteTime": {
     "end_time": "2025-05-18T19:07:08.285629Z",
     "start_time": "2025-05-18T19:07:07.110054Z"
    }
   },
   "cell_type": "code",
   "source": [
    "import seaborn as sns\n",
    "import matplotlib.pyplot as plt\n",
    "import pandas as pd\n",
    "\n",
    "df_nonfiction = work_genre_lang[work_genre_lang['genre_id'] == 1]\n",
    "df_romance = work_genre_lang[work_genre_lang['genre_id'] == 6]\n",
    "df_children = work_genre_lang[work_genre_lang['genre_id'] == 8]\n",
    "#df_fantasy = work_genre_lang[work_genre_lang['genre_id'] == 2]\n",
    "\n",
    "\n",
    "lang_counts_nonfiction = df_nonfiction['deduced_language'].value_counts(normalize=True)\n",
    "lang_counts_romance = df_romance['deduced_language'].value_counts(normalize=True)\n",
    "lang_counts_children = df_children['deduced_language'].value_counts(normalize=True)\n",
    "#lang_counts_fantasy = df_fantasy['deduced_language'].value_counts(normalize=True)\n",
    "lang_counts_nonfiction = lang_counts_nonfiction.rename(index={\n",
    "    'other-translation-not-found': 'other-not-translated',\n",
    "})\n",
    "lang_counts_romance = lang_counts_romance.rename(index={\n",
    "    'other-translation-not-found': 'other-not-translated',\n",
    "})\n",
    "lang_counts_children = lang_counts_children.rename(index={\n",
    "    'other-translation-not-found': 'other-not-translated',\n",
    "})\n",
    "\n",
    "ratio_df = pd.DataFrame({\n",
    "    'Nonfiction': lang_counts_nonfiction,\n",
    "    'Romance': lang_counts_romance,\n",
    "    'Children': lang_counts_children,\n",
    "    #'Fantasy': lang_counts_fantasy\n",
    "}).fillna(0)\n",
    "\n",
    "# Convert to long format for Seaborn\n",
    "ratio_df = ratio_df.reset_index().melt(id_vars='deduced_language', var_name='Genre', value_name='Ratio')\n",
    "ratio_df.rename(columns={'deduced_language': 'Language'}, inplace=True)#\n",
    "# Plot\n",
    "plt.figure(figsize=(12, 6))\n",
    "ax = sns.barplot(data=ratio_df, x='Language', y='Ratio', hue='Genre', palette='muted')\n",
    "\n",
    "plt.xlabel('')\n",
    "plt.ylabel('Books')\n",
    "# plt.title('Language Distribution in Nonfiction, Romance and Children')\n",
    "\n",
    "plt.xticks(rotation=45)\n",
    "\n",
    "# Show values on top of bars\n",
    "# for p in ax.patches:\n",
    "#     if p.get_height() > 0:\n",
    "#         ax.annotate(\n",
    "#             f'{p.get_height():.2f}',\n",
    "#             (p.get_x() + p.get_width() / 2., p.get_height()),\n",
    "#             ha='center', va='bottom',\n",
    "#             xytext=(0, 5), textcoords='offset points'\n",
    "#         )\n",
    "for p in ax.patches:\n",
    "    if p.get_height() > 0:\n",
    "        ax.annotate(\n",
    "            f'{p.get_height():.2%}',  # Convert to percentage format\n",
    "            (p.get_x() + p.get_width() / 2., p.get_height()),  # Position of the text\n",
    "            ha='center',  # Horizontal alignment\n",
    "            va='center',  # Vertical alignment\n",
    "            xytext=(0, 5),  # Offset from the bar\n",
    "            textcoords='offset points',\n",
    "        )\n",
    "ax.set_yticklabels(['{:.0f}%'.format(y * 100) for y in ax.get_yticks()])\n",
    "\n",
    "plt.tight_layout()\n",
    "plt.show()"
   ],
   "id": "d18391cf44b4cee1",
   "outputs": [
    {
     "name": "stderr",
     "output_type": "stream",
     "text": [
      "/tmp/ipykernel_2442602/2713670011.py:64: UserWarning: set_ticklabels() should only be used with a fixed number of ticks, i.e. after set_ticks() or using a FixedLocator.\n",
      "  ax.set_yticklabels(['{:.0f}%'.format(y * 100) for y in ax.get_yticks()])\n"
     ]
    },
    {
     "data": {
      "text/plain": [
       "<Figure size 1200x600 with 1 Axes>"
      ],
      "image/png": "[encoded data removed]"
     },
     "metadata": {},
     "output_type": "display_data"
    }
   ],
   "execution_count": 10
  }
 ],
 "metadata": {
  "kernelspec": {
   "display_name": "Python 3",
   "language": "python",
   "name": "python3"
  },
  "language_info": {
   "codemirror_mode": {
    "name": "ipython",
    "version": 2
   },
   "file_extension": ".py",
   "mimetype": "text/x-python",
   "name": "python",
   "nbconvert_exporter": "python",
   "pygments_lexer": "ipython2",
   "version": "2.7.6"
  }
 },
 "nbformat": 4,
 "nbformat_minor": 5
}
